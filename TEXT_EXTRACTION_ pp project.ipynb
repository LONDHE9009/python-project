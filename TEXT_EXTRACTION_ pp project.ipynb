{
 "cells": [
  {
   "cell_type": "code",
   "execution_count": 1,
   "id": "d636e6af-d112-46ff-9547-dfa9a7c71edc",
   "metadata": {
    "execution": {
     "iopub.execute_input": "2024-11-21T14:13:30.650788Z",
     "iopub.status.busy": "2024-11-21T14:13:30.650273Z",
     "iopub.status.idle": "2024-11-21T14:13:58.481931Z",
     "shell.execute_reply": "2024-11-21T14:13:58.480440Z"
    }
   },
   "outputs": [
    {
     "name": "stdout",
     "output_type": "stream",
     "text": [
      "Defaulting to user installation because normal site-packages is not writeable\r\n"
     ]
    },
    {
     "name": "stdout",
     "output_type": "stream",
     "text": [
      "Requirement already satisfied: opencv-python in /home/sandbox/.local/lib/python3.11/site-packages (4.5.5.62)\r\n",
      "Requirement already satisfied: pytesseract in /home/sandbox/.local/lib/python3.11/site-packages (0.3.8)\r\n"
     ]
    },
    {
     "name": "stdout",
     "output_type": "stream",
     "text": [
      "Requirement already satisfied: numpy>=1.21.2 in /home/sandbox/.local/lib/python3.11/site-packages (from opencv-python) (1.24.0)\r\n",
      "Requirement already satisfied: Pillow in /home/sandbox/.local/lib/python3.11/site-packages (from pytesseract) (9.2.0)\r\n"
     ]
    },
    {
     "name": "stdout",
     "output_type": "stream",
     "text": [
      "Note: you may need to restart the kernel to use updated packages.\n"
     ]
    }
   ],
   "source": [
    "pip install opencv-python pytesseract"
   ]
  },
  {
   "cell_type": "code",
   "execution_count": 2,
   "id": "fbe1c428-c796-48d9-b131-f81216018e8f",
   "metadata": {
    "execution": {
     "iopub.execute_input": "2024-11-21T14:13:58.489811Z",
     "iopub.status.busy": "2024-11-21T14:13:58.488136Z",
     "iopub.status.idle": "2024-11-21T14:13:59.008762Z",
     "shell.execute_reply": "2024-11-21T14:13:59.007650Z"
    }
   },
   "outputs": [],
   "source": [
    "import cv2"
   ]
  },
  {
   "cell_type": "code",
   "execution_count": 3,
   "id": "d35d07b4-7a8a-41e2-9f6c-e0cdacb33159",
   "metadata": {
    "execution": {
     "iopub.execute_input": "2024-11-21T14:13:59.014843Z",
     "iopub.status.busy": "2024-11-21T14:13:59.013870Z",
     "iopub.status.idle": "2024-11-21T14:14:00.800847Z",
     "shell.execute_reply": "2024-11-21T14:14:00.799926Z"
    }
   },
   "outputs": [],
   "source": [
    "import pytesseract"
   ]
  },
  {
   "cell_type": "code",
   "execution_count": 4,
   "id": "04d3ac27-263f-4a7d-a918-7c46320accb0",
   "metadata": {
    "execution": {
     "iopub.execute_input": "2024-11-21T14:14:00.807096Z",
     "iopub.status.busy": "2024-11-21T14:14:00.806469Z",
     "iopub.status.idle": "2024-11-21T14:14:00.812150Z",
     "shell.execute_reply": "2024-11-21T14:14:00.811161Z"
    }
   },
   "outputs": [],
   "source": [
    "import numpy as np "
   ]
  },
  {
   "cell_type": "code",
   "execution_count": 5,
   "id": "6a00e673-6384-4088-9fb4-a0881f2b142e",
   "metadata": {
    "execution": {
     "iopub.execute_input": "2024-11-21T14:14:00.817430Z",
     "iopub.status.busy": "2024-11-21T14:14:00.816754Z",
     "iopub.status.idle": "2024-11-21T14:14:00.821987Z",
     "shell.execute_reply": "2024-11-21T14:14:00.821030Z"
    }
   },
   "outputs": [],
   "source": [
    "pytesseract.pytesseract.tesseract_cmd = r'C:\\Users\\2321s\\TESSERACT\\tesseract.exe'\n"
   ]
  },
  {
   "cell_type": "code",
   "execution_count": 6,
   "id": "d7bcccfd-4e6e-4bf4-a13d-f9715376813a",
   "metadata": {
    "execution": {
     "iopub.execute_input": "2024-11-21T14:14:00.827052Z",
     "iopub.status.busy": "2024-11-21T14:14:00.826594Z",
     "iopub.status.idle": "2024-11-21T14:14:00.833839Z",
     "shell.execute_reply": "2024-11-21T14:14:00.832472Z"
    }
   },
   "outputs": [
    {
     "ename": "SyntaxError",
     "evalue": "(unicode error) 'unicodeescape' codec can't decode bytes in position 2-3: truncated \\UXXXXXXXX escape (147603605.py, line 5)",
     "output_type": "error",
     "traceback": [
      "\u001b[0;36m  Cell \u001b[0;32mIn[6], line 5\u001b[0;36m\u001b[0m\n\u001b[0;31m    image = cv2.imread(\"C:\\Users\\HP|LETTER.jpg\")\u001b[0m\n\u001b[0m                                               ^\u001b[0m\n\u001b[0;31mSyntaxError\u001b[0m\u001b[0;31m:\u001b[0m (unicode error) 'unicodeescape' codec can't decode bytes in position 2-3: truncated \\UXXXXXXXX escape\n"
     ]
    }
   ],
   "source": [
    "# import cv2\n",
    "# import pytesseract\n",
    "\n",
    "# Load the image using OpenCV\n",
    "image = cv2.imread(\"C:\\\\Users\\\\HP\\\\LETTER.jpg\")"
   ]
  },
  {
   "cell_type": "code",
   "execution_count": 7,
   "id": "c0b3aa1e-ba8f-4239-90b9-d0259c3216cd",
   "metadata": {},
   "outputs": [
    {
     "ename": "error",
     "evalue": "OpenCV(4.10.0) D:\\a\\opencv-python\\opencv-python\\opencv\\modules\\imgproc\\src\\color.cpp:196: error: (-215:Assertion failed) !_src.empty() in function 'cv::cvtColor'\n",
     "output_type": "error",
     "traceback": [
      "\u001b[1;31m---------------------------------------------------------------------------\u001b[0m",
      "\u001b[1;31merror\u001b[0m                                     Traceback (most recent call last)",
      "Cell \u001b[1;32mIn[7], line 1\u001b[0m\n\u001b[1;32m----> 1\u001b[0m gray \u001b[38;5;241m=\u001b[39m cv2\u001b[38;5;241m.\u001b[39mcvtColor(image, cv2\u001b[38;5;241m.\u001b[39mCOLOR_BGR2GRAY)\n",
      "\u001b[1;31merror\u001b[0m: OpenCV(4.10.0) D:\\a\\opencv-python\\opencv-python\\opencv\\modules\\imgproc\\src\\color.cpp:196: error: (-215:Assertion failed) !_src.empty() in function 'cv::cvtColor'\n"
     ]
    }
   ],
   "source": [
    "gray = cv2.cvtColor(image, cv2.COLOR_BGR2GRAY)"
   ]
  },
  {
   "cell_type": "code",
   "execution_count": null,
   "id": "a2ec9ccf-e5ad-4ca3-97d7-1ad46681a9ae",
   "metadata": {},
   "outputs": [],
   "source": [
    "adaptive_thresh = cv2.adaptiveThreshold(\n",
    "    gray, 255, cv2.ADAPTIVE_THRESH_GAUSSIAN_C, cv2.THRESH_BINARY, 11, 2)\n"
   ]
  },
  {
   "cell_type": "code",
   "execution_count": null,
   "id": "0b31513d-7209-47ca-872a-dcf1eb80f63f",
   "metadata": {},
   "outputs": [],
   "source": [
    "denoised_img = cv2.medianBlur(adaptive_thresh, 3)"
   ]
  },
  {
   "cell_type": "code",
   "execution_count": null,
   "id": "e761dd8f-9c21-423f-8e00-61357538b85e",
   "metadata": {},
   "outputs": [],
   "source": [
    "extracted_text=pytesseract.image_to_string(image)"
   ]
  },
  {
   "cell_type": "code",
   "execution_count": null,
   "id": "d25f0307-34e7-4be4-a7fe-358cd44ce51d",
   "metadata": {},
   "outputs": [],
   "source": [
    "print(extracted_text)"
   ]
  },
  {
   "cell_type": "code",
   "execution_count": null,
   "id": "fa94a5f2-1a18-4f79-9a7f-defcdf8ec8d0",
   "metadata": {},
   "outputs": [],
   "source": [
    "pip install pypdf2 pytesseract pillow"
   ]
  },
  {
   "cell_type": "code",
   "execution_count": null,
   "id": "49b830a2-426a-4501-90eb-a3d964010a01",
   "metadata": {},
   "outputs": [],
   "source": [
    "import PyPDF2"
   ]
  },
  {
   "cell_type": "code",
   "execution_count": null,
   "id": "0c00d59f-79af-47cc-b77a-302d23d76962",
   "metadata": {},
   "outputs": [],
   "source": [
    "import pytesseract "
   ]
  },
  {
   "cell_type": "code",
   "execution_count": null,
   "id": "9cf577cf-04d3-45a5-88f5-42261049f8e1",
   "metadata": {},
   "outputs": [],
   "source": [
    "from PIL import Image "
   ]
  },
  {
   "cell_type": "code",
   "execution_count": null,
   "id": "a87d6461-238a-4a57-b4aa-b98ea1298431",
   "metadata": {},
   "outputs": [],
   "source": [
    "import os "
   ]
  },
  {
   "cell_type": "code",
   "execution_count": null,
   "id": "720e9d30-4b72-4717-aca6-3d9f20e8fe7c",
   "metadata": {},
   "outputs": [],
   "source": [
    "import tkinter as tk"
   ]
  },
  {
   "cell_type": "code",
   "execution_count": null,
   "id": "44ed4ac9-6453-409b-a5dc-674ee9b53288",
   "metadata": {},
   "outputs": [],
   "source": [
    "from tkinter import filedialog"
   ]
  },
  {
   "cell_type": "code",
   "execution_count": null,
   "id": "ba6d195b-8521-49b1-b956-1fe1bb5b5da9",
   "metadata": {},
   "outputs": [],
   "source": [
    "# Function to extract text from a PDF file\n",
    "def extract_text_from_pdf(pdf_path):\n",
    "    try:\n",
    "        with open(pdf_path, 'rb') as file:\n",
    "            reader = PyPDF2.PdfReader(file)\n",
    "            text = ''\n",
    "            for page_num in range(len(reader.pages)):\n",
    "                page = reader.pages[page_num]\n",
    "                text += page.extract_text()\n",
    "            return text\n",
    "    except Exception as e:\n",
    "        print(f\"Error extracting text from PDF: {e}\")\n",
    "        return \"\""
   ]
  },
  {
   "cell_type": "code",
   "execution_count": null,
   "id": "88d7b1ec-3595-468f-9175-b30aa2f640be",
   "metadata": {},
   "outputs": [],
   "source": [
    "# Function to extract text from an image using OCR\n",
    "def extract_text_from_image(image_path):\n",
    "    try:\n",
    "        img = Image.open(image_path)\n",
    "        text = pytesseract.image_to_string(img)\n",
    "        return text\n",
    "    except Exception as e:\n",
    "        print(f\"Error extracting text from image: {e}\")\n",
    "        return \"\""
   ]
  },
  {
   "cell_type": "code",
   "execution_count": null,
   "id": "145015f1-d9bf-4d97-811a-6968552bb941",
   "metadata": {},
   "outputs": [],
   "source": [
    "# Function to open a file dialog to select a document\n",
    "def open_file_dialog():\n",
    "    root = tk.Tk()\n",
    "    root.withdraw()  # Hide the root window\n",
    "    file_path = filedialog.askopenfilename(\n",
    "        title=\"Select a file\",\n",
    "        filetypes=[(\"PDF files\", \"*.pdf\"), (\"Image files\", \"*.jpg;*.jpeg;*.png\"), (\"All files\", \"*.*\")]\n",
    "    )\n",
    "    return file_path"
   ]
  },
  {
   "cell_type": "code",
   "execution_count": null,
   "id": "1f6db572-36d9-41fe-af26-9677bde13291",
   "metadata": {},
   "outputs": [],
   "source": [
    "# Main function to determine file type and extract text\n",
    "def extract_text(file_path):\n",
    "    if not os.path.exists(file_path):\n",
    "        print(\"File not found.\")\n",
    "        return \"\"\n",
    "    \n",
    "    file_extension = os.path.splitext(file_path)[1].lower()\n",
    "    \n",
    "    if file_extension == '.pdf':\n",
    "        return extract_text_from_pdf(file_path)\n",
    "    elif file_extension in ['.jpg', '.jpeg', '.png']:\n",
    "        return extract_text_from_image(file_path)\n",
    "    else:\n",
    "        print(\"Unsupported file type.\")\n",
    "        return \"\""
   ]
  },
  {
   "cell_type": "code",
   "execution_count": null,
   "id": "59d18a61-5356-40e0-b5cf-cfcd8f55f7f1",
   "metadata": {},
   "outputs": [],
   "source": [
    "# Example usage\n",
    "if __name__ == \"__main__\":\n",
    "    file_path = open_file_dialog()  # Open file dialog to select a file\n",
    "    if file_path:\n",
    "        print(f\"File selected: {file_path}\")\n",
    "        extracted_text = extract_text(file_path)\n",
    "        \n",
    "        if extracted_text:\n",
    "            print(\"\\nExtracted Text:\")\n",
    "            print(extracted_text[:20000])  # Print the first 500 characters for preview\n",
    "        else:\n",
    "            print(\"No text extracted.\")\n",
    "    else:\n",
    "        print(\"No file selected.\")"
   ]
  },
  {
   "cell_type": "code",
   "execution_count": null,
   "id": "bbc1d50d-cc9e-4b3c-811e-68e15a3c506b",
   "metadata": {},
   "outputs": [],
   "source": []
  },
  {
   "cell_type": "code",
   "execution_count": null,
   "id": "5ecbb1b1-9613-47be-8fa0-21fe15ba07c0",
   "metadata": {},
   "outputs": [],
   "source": []
  },
  {
   "cell_type": "code",
   "execution_count": null,
   "id": "5d6d9158-81f8-46e0-b64a-579b57058db0",
   "metadata": {},
   "outputs": [],
   "source": []
  },
  {
   "cell_type": "code",
   "execution_count": null,
   "id": "56a50baa-e03d-4b4b-a126-54061c4797ae",
   "metadata": {},
   "outputs": [],
   "source": []
  },
  {
   "cell_type": "code",
   "execution_count": null,
   "id": "e6351122-6510-4959-a6f7-7a60e7cc3690",
   "metadata": {},
   "outputs": [],
   "source": []
  },
  {
   "cell_type": "code",
   "execution_count": null,
   "id": "8e9ec4f7-42b8-433e-9075-a791972d7be0",
   "metadata": {},
   "outputs": [],
   "source": []
  },
  {
   "cell_type": "code",
   "execution_count": null,
   "id": "a7ab8ab4-cc2e-4830-876d-7c757c9a3c59",
   "metadata": {},
   "outputs": [],
   "source": []
  },
  {
   "cell_type": "code",
   "execution_count": null,
   "id": "d1babefa-99c3-4c3a-8e1f-7a9405672afd",
   "metadata": {},
   "outputs": [],
   "source": []
  }
 ],
 "metadata": {
  "kernelspec": {
   "display_name": "Python 3 (ipykernel)",
   "language": "python",
   "name": "python3"
  },
  "language_info": {
   "codemirror_mode": {
    "name": "ipython",
    "version": 3
   },
   "file_extension": ".py",
   "mimetype": "text/x-python",
   "name": "python",
   "nbconvert_exporter": "python",
   "pygments_lexer": "ipython3",
   "version": "3.11.8"
  }
 },
 "nbformat": 4,
 "nbformat_minor": 5
}
